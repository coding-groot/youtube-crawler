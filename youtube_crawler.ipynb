{
 "cells": [
  {
   "cell_type": "code",
   "execution_count": 1,
   "metadata": {},
   "outputs": [],
   "source": [
    "#크롤링시 필요한 라이브러리 불러오기\n",
    "from bs4 import BeautifulSoup\n",
    "import time\n",
    "from selenium import webdriver\n",
    "import pandas as pd\n",
    "from selenium.webdriver.common.keys import Keys"
   ]
  },
  {
   "cell_type": "code",
   "execution_count": 2,
   "metadata": {},
   "outputs": [],
   "source": [
    "def get_video_list(keyword):\n",
    "    url = \"https://www.youtube.com/results?search_query=\"+keyword+\"&sp=CAI%253D\"\n",
    "    driver = webdriver.Chrome('/Users/leesuyeon/Downloads/chromedriver')\n",
    "    driver.get(url)\n",
    "    last_page_height = driver.execute_script(\"return document.documentElement.scrollHeight\")\n",
    "    titles=[]\n",
    "    urls=[]\n",
    "    while True:\n",
    "        driver.execute_script(\"window.scrollTo(0, document.documentElement.scrollHeight);\")\n",
    "        time.sleep(3.0)\n",
    "        new_page_height = driver.execute_script(\"return document.documentElement.scrollHeight\")\n",
    "        if new_page_height == last_page_height:\n",
    "            break\n",
    "        last_page_height = new_page_height\n",
    "        \n",
    "    html_source = driver.page_source\n",
    "    soup = BeautifulSoup(html_source, 'lxml')\n",
    "    datas = soup.select(\"a#video-title\")\n",
    "    for data in datas:\n",
    "        title = data.text.replace('\\n', '')\n",
    "        url = \"https://www.youtube.com/\" + data.get('href')\n",
    "        titles.append(title)\n",
    "        urls.append(url)\n",
    "    return titles, urls"
   ]
  },
  {
   "cell_type": "code",
   "execution_count": 6,
   "metadata": {},
   "outputs": [],
   "source": [
    "def get_user_IDs_and_comments(urls):\n",
    "    my_dataframe = pd.DataFrame()\n",
    "    \n",
    "    for url in urls:\n",
    "        driver = webdriver.Chrome('/Users/leesuyeon/Downloads/chromedriver')\n",
    "        driver.get(url)\n",
    "        last_height = driver.execute_script(\"return document.documentElement.scrollHeight\")\n",
    "        while True:\n",
    "            driver.execute_script(\"window.scrollTo(0, document.documentElement.scrollHeight);\")\n",
    "            time.sleep(1.5)\n",
    "\n",
    "            new_height = driver.execute_script(\"return document.documentElement.scrollHeight\")\n",
    "            if new_height == last_height:\n",
    "                break\n",
    "            last_height = new_height\n",
    "\n",
    "        time.sleep(1.5)\n",
    "        #유튜브 팝업 때문에 안 된다면\n",
    "        # try:\n",
    "        #     driver.find_element_by_css_selector(\"#dismiss-button > a\").click()\n",
    "        # except:\n",
    "        #     pass\n",
    "\n",
    "        #대댓글 버튼 누르기\n",
    "        buttons = driver.find_elements_by_css_selector(\"#more-replies > a\")\n",
    "\n",
    "        time.sleep(1.5)\n",
    "\n",
    "        for button in buttons:\n",
    "            try:\n",
    "                button.send_keys(Keys.ENTER)\n",
    "                time.sleep(1.5)\n",
    "                button.click()\n",
    "            except:\n",
    "                pass\n",
    "        \n",
    "        #댓글 가져오기\n",
    "        html_source = driver.page_source\n",
    "        soup = BeautifulSoup(html_source, 'html.parser')\n",
    "\n",
    "        id_list = soup.select(\"div#header-author > h3 > #author-text > span\")\n",
    "        comment_list = soup.select(\"yt-formatted-string#content-text\")\n",
    "\n",
    "        id_final = []\n",
    "        comment_final = []\n",
    "\n",
    "        for i in range(len(comment_list)):\n",
    "            temp_id = id_list[i].text\n",
    "            temp_id = temp_id.replace('\\n', '')\n",
    "            temp_id = temp_id.replace('\\t', '')\n",
    "            temp_id = temp_id.replace('    ', '')\n",
    "            id_final.append(temp_id) # 댓글 작성자\n",
    "\n",
    "            temp_comment = comment_list[i].text\n",
    "            temp_comment = temp_comment.replace('\\n', '')\n",
    "            temp_comment = temp_comment.replace('\\t', '')\n",
    "            temp_comment = temp_comment.replace('    ', '')\n",
    "            comment_final.append(temp_comment) # 댓글 내용\n",
    "\n",
    "        pd_data = pd.DataFrame({\"ID\":id_final, \"Comment\":comment_final})\n",
    "        my_dataframe.append(pd_data)\n",
    "        \n",
    "    return my_dataframe"
   ]
  },
  {
   "cell_type": "code",
   "execution_count": 4,
   "metadata": {},
   "outputs": [
    {
     "name": "stderr",
     "output_type": "stream",
     "text": [
      "/var/folders/82/5zkl1yw93n70v5n8xzdg4s140000gn/T/ipykernel_8410/625348981.py:3: DeprecationWarning: executable_path has been deprecated, please pass in a Service object\n",
      "  driver = webdriver.Chrome('/Users/leesuyeon/Downloads/chromedriver')\n"
     ]
    },
    {
     "name": "stdout",
     "output_type": "stream",
     "text": [
      "title len 476\n"
     ]
    }
   ],
   "source": [
    "titles, urls = get_video_list('민식이법')\n",
    "print(\"title len\",len(titles))\n",
    "my_dataframe = get_user_IDs_and_comments(urls)"
   ]
  },
  {
   "cell_type": "code",
   "execution_count": null,
   "metadata": {},
   "outputs": [],
   "source": [
    "import sqlite3\n",
    "con = sqlite3.connect('C:/jocoding/youtube.db')\n",
    "my_dataframe.to_sql('test',con)"
   ]
  }
 ],
 "metadata": {
  "kernelspec": {
   "display_name": "Python 3.8.10 ('base')",
   "language": "python",
   "name": "python3"
  },
  "language_info": {
   "codemirror_mode": {
    "name": "ipython",
    "version": 3
   },
   "file_extension": ".py",
   "mimetype": "text/x-python",
   "name": "python",
   "nbconvert_exporter": "python",
   "pygments_lexer": "ipython3",
   "version": "3.8.10"
  },
  "orig_nbformat": 4,
  "vscode": {
   "interpreter": {
    "hash": "e36cc0925fe1e8c64992dcd83938798584ce0d3b85e47e24092b4953fae6fd63"
   }
  }
 },
 "nbformat": 4,
 "nbformat_minor": 2
}
